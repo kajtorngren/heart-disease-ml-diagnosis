{
 "cells": [
  {
   "cell_type": "code",
   "execution_count": 2,
   "metadata": {},
   "outputs": [
    {
     "ename": "FileNotFoundError",
     "evalue": "[Errno 2] No such file or directory: 'ECG_pred.pkl'",
     "output_type": "error",
     "traceback": [
      "\u001b[0;31m---------------------------------------------------------------------------\u001b[0m",
      "\u001b[0;31mFileNotFoundError\u001b[0m                         Traceback (most recent call last)",
      "Cell \u001b[0;32mIn[2], line 10\u001b[0m\n\u001b[1;32m      7\u001b[0m bp_chol_prediction \u001b[38;5;241m=\u001b[39m \u001b[38;5;241m1\u001b[39m  \u001b[38;5;66;03m# Prediktion från BP/Chol-modellen (0 eller 1)\u001b[39;00m\n\u001b[1;32m      8\u001b[0m bp_chol_probability \u001b[38;5;241m=\u001b[39m \u001b[38;5;241m0.76\u001b[39m  \u001b[38;5;66;03m# Sannolikhet från BP/Chol-modellen (0 till 1)\u001b[39;00m\n\u001b[0;32m---> 10\u001b[0m ECG_pred \u001b[38;5;241m=\u001b[39m \u001b[43mjoblib\u001b[49m\u001b[38;5;241;43m.\u001b[39;49m\u001b[43mload\u001b[49m\u001b[43m(\u001b[49m\u001b[38;5;124;43m'\u001b[39;49m\u001b[38;5;124;43mECG_pred.pkl\u001b[39;49m\u001b[38;5;124;43m'\u001b[39;49m\u001b[43m)\u001b[49m\n\u001b[1;32m     11\u001b[0m BPCh_pred \u001b[38;5;241m=\u001b[39m joblib\u001b[38;5;241m.\u001b[39mload(\u001b[38;5;124m'\u001b[39m\u001b[38;5;124mBPCh_pred.pkl\u001b[39m\u001b[38;5;124m'\u001b[39m)\n\u001b[1;32m     12\u001b[0m BPCh_pred_prob \u001b[38;5;241m=\u001b[39m joblib\u001b[38;5;241m.\u001b[39mload(\u001b[38;5;124m'\u001b[39m\u001b[38;5;124mBPCh_pred_prob.pkl\u001b[39m\u001b[38;5;124m'\u001b[39m)\n",
      "File \u001b[0;32m/Library/Frameworks/Python.framework/Versions/3.9/lib/python3.9/site-packages/joblib/numpy_pickle.py:650\u001b[0m, in \u001b[0;36mload\u001b[0;34m(filename, mmap_mode)\u001b[0m\n\u001b[1;32m    648\u001b[0m         obj \u001b[38;5;241m=\u001b[39m _unpickle(fobj)\n\u001b[1;32m    649\u001b[0m \u001b[38;5;28;01melse\u001b[39;00m:\n\u001b[0;32m--> 650\u001b[0m     \u001b[38;5;28;01mwith\u001b[39;00m \u001b[38;5;28;43mopen\u001b[39;49m\u001b[43m(\u001b[49m\u001b[43mfilename\u001b[49m\u001b[43m,\u001b[49m\u001b[43m \u001b[49m\u001b[38;5;124;43m'\u001b[39;49m\u001b[38;5;124;43mrb\u001b[39;49m\u001b[38;5;124;43m'\u001b[39;49m\u001b[43m)\u001b[49m \u001b[38;5;28;01mas\u001b[39;00m f:\n\u001b[1;32m    651\u001b[0m         \u001b[38;5;28;01mwith\u001b[39;00m _read_fileobject(f, filename, mmap_mode) \u001b[38;5;28;01mas\u001b[39;00m fobj:\n\u001b[1;32m    652\u001b[0m             \u001b[38;5;28;01mif\u001b[39;00m \u001b[38;5;28misinstance\u001b[39m(fobj, \u001b[38;5;28mstr\u001b[39m):\n\u001b[1;32m    653\u001b[0m                 \u001b[38;5;66;03m# if the returned file object is a string, this means we\u001b[39;00m\n\u001b[1;32m    654\u001b[0m                 \u001b[38;5;66;03m# try to load a pickle file generated with an version of\u001b[39;00m\n\u001b[1;32m    655\u001b[0m                 \u001b[38;5;66;03m# Joblib so we load it with joblib compatibility function.\u001b[39;00m\n",
      "\u001b[0;31mFileNotFoundError\u001b[0m: [Errno 2] No such file or directory: 'ECG_pred.pkl'"
     ]
    }
   ],
   "source": [
    "import joblib\n",
    "\n",
    "# Riskprocent från EKG-modellen\n",
    "ecg_risk = 90  # Risk från EKG-modellen (procent)\n",
    "\n",
    "# Input från BP/Chol-modellen\n",
    "bp_chol_prediction = 1  # Prediktion från BP/Chol-modellen (0 eller 1)\n",
    "bp_chol_probability = 0.76  # Sannolikhet från BP/Chol-modellen (0 till 1)\n",
    "\n",
    "ECG_pred = joblib.load('ECG_pred.pkl')\n",
    "BPCh_pred = joblib.load('BPCh_pred.pkl')\n",
    "BPCh_pred_prob = joblib.load('BPCh_pred_prob.pkl')\n",
    "\n",
    "print(ECG_pred)\n",
    "print(BPCh_pred)\n",
    "print(BPCh_pred_prob)\n",
    "\n",
    "\n",
    "# Beräkna riskprocent baserat på prediktion och sannolikhet\n",
    "if bp_chol_prediction == 0:\n",
    "    # Om modellen förutspår \"inte hälsosam\" (0), skala sannolikheten till hög risk\n",
    "    bp_chol_risk = int(bp_chol_probability * 100)\n",
    "else:\n",
    "    # Om modellen förutspår \"hälsosam\" (1), invertera sannolikheten till låg risk\n",
    "    bp_chol_risk = int((1 - bp_chol_probability) * 100)\n",
    "\n",
    "# Dynamiska vikter baserat på medicinsk kontext\n",
    "def adjust_weights(ecg_risk, bp_chol_risk):\n",
    "    \"\"\"\n",
    "    Justera vikterna för de två modellerna baserat på risknivåer\n",
    "    \"\"\"\n",
    "    # Om BP/Chol-risk är hög, ge BP-modellen mer vikt\n",
    "    if bp_chol_risk >= 70:\n",
    "        return 0.4, 0.6  # Ge mer vikt till BP/Chol om BP är mycket hög\n",
    "    # Om både EKG och BP/Chol är höga, ge lika vikt\n",
    "    elif ecg_risk >= 70 and bp_chol_risk >= 70:\n",
    "        return 0.5, 0.5  # Ge lika vikt om både EKG och BP är höga\n",
    "    # Om både EKG och BP/Chol är låga, ge lika vikt\n",
    "    elif ecg_risk < 30 and bp_chol_risk < 50:\n",
    "        return 0.5, 0.5  # Låg risk för båda, ge lika vikt\n",
    "    else:\n",
    "        return 0.5, 0.5  # Standard när riskerna är balanserade\n",
    "\n",
    "# Hämta dynamiska vikter\n",
    "ecg_weight, bp_chol_weight = adjust_weights(ecg_risk, bp_chol_risk)\n",
    "\n",
    "# Kombinera riskerna med justerade vikter\n",
    "combined_risk = (ecg_risk * ecg_weight + bp_chol_risk * bp_chol_weight)\n",
    "\n",
    "# Tröskelvärden för riskkategori\n",
    "if combined_risk < 50:\n",
    "    risk_category = \"Låg risk för hjärtsjukdom\"\n",
    "elif 50 <= combined_risk < 75:\n",
    "    risk_category = \"Medelhög risk för hjärtsjukdom\"\n",
    "elif 75 <= combined_risk < 90:\n",
    "    risk_category = \"Hög risk för hjärtsjukdom\"\n",
    "else:\n",
    "    risk_category = \"Mycket hög risk för hjärtsjukdom\"\n",
    "\n",
    "# Skriv ut sammanvägt resultat på samma rad\n",
    "print(f\"Kombinerad risk: {combined_risk:.2f}% - {risk_category}\")\n",
    "\n",
    "# Extra medicinsk insikt om arytmi vid hög EKG-risk\n",
    "if ecg_risk >= 70:\n",
    "    print(\"Du har stor grad av arytmi, uppsök läkare\")\n",
    "\n",
    "# Skriv ut procentuellt resultat för BP/Chol\n",
    "print(f\"BP/Chol Risk: {bp_chol_risk}%\")"
   ]
  }
 ],
 "metadata": {
  "kernelspec": {
   "display_name": "Python 3",
   "language": "python",
   "name": "python3"
  },
  "language_info": {
   "codemirror_mode": {
    "name": "ipython",
    "version": 3
   },
   "file_extension": ".py",
   "mimetype": "text/x-python",
   "name": "python",
   "nbconvert_exporter": "python",
   "pygments_lexer": "ipython3",
   "version": "3.9.7"
  }
 },
 "nbformat": 4,
 "nbformat_minor": 2
}
