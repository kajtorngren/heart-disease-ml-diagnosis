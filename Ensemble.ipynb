{
 "cells": [
  {
   "cell_type": "code",
   "execution_count": null,
   "metadata": {
    "vscode": {
     "languageId": "plaintext"
    }
   },
   "outputs": [],
   "source": [
    "# Riskprocent från EKG-modellen\n",
    "ecg_risk = 90  # Risk från EKG-modellen (procent)\n",
    "\n",
    "# Riskprocent från BP/Chol-modellen (kommer från din ML-modell)\n",
    "bp_chol_risk = 85  # Riskprocent från BP/Chol-modellen (procent)\n",
    "\n",
    "# Dynamiska vikter baserat på medicinsk kontext\n",
    "def adjust_weights(ecg_risk, bp_chol_risk):\n",
    "    \"\"\"\n",
    "    Justera vikterna för de två modellerna baserat på risknivåer\n",
    "    \"\"\"\n",
    "    # Om BP/Chol-risk är hög, ge BP-modellen mer vikt\n",
    "    if bp_chol_risk >= 70:\n",
    "        return 0.4, 0.6  # Ge mer vikt till BP/Chol om BP är mycket hög\n",
    "    # Om både EKG och BP/Chol är höga, ge lika vikt\n",
    "    elif ecg_risk >= 70 and bp_chol_risk >= 70:\n",
    "        return 0.5, 0.5  # Ge lika vikt om både EKG och BP är höga\n",
    "    # Om både EKG och BP/Chol är låga, ge lika vikt\n",
    "    elif ecg_risk < 30 and bp_chol_risk < 50:\n",
    "        return 0.5, 0.5  # Låg risk för båda, ge lika vikt\n",
    "    else:\n",
    "        return 0.5, 0.5  # Standard när riskerna är balanserade\n",
    "\n",
    "# Hämta dynamiska vikter\n",
    "ecg_weight, bp_chol_weight = adjust_weights(ecg_risk, bp_chol_risk)\n",
    "\n",
    "# Kombinera riskerna med justerade vikter\n",
    "combined_risk = (ecg_risk * ecg_weight + bp_chol_risk * bp_chol_weight)\n",
    "\n",
    "# Tröskelvärden för riskkategori\n",
    "if combined_risk < 50:\n",
    "    risk_category = \"Låg risk för hjärtsjukdom\"\n",
    "elif 50 <= combined_risk < 75:\n",
    "    risk_category = \"Medelhög risk för hjärtsjukdom\"\n",
    "elif 75 <= combined_risk < 90:\n",
    "    risk_category = \"Hög risk för hjärtsjukdom\"\n",
    "else:\n",
    "    risk_category = \"Mycket hög risk för hjärtsjukdom\"\n",
    "\n",
    "# Skriv ut sammanvägt resultat på samma rad\n",
    "print(f\"Kombinerad risk: {combined_risk:.2f}% - {risk_category}\")\n",
    "\n",
    "# Extra medicinsk insikt om arytmi vid hög EKG-risk\n",
    "if ecg_risk >= 70:\n",
    "    print(\"Du har stor grad av arytmi, uppsök läkare\")\n",
    "\n",
    "# Skriv ut procentuellt resultat för BP/Chol\n",
    "print(f\"BP/Chol Risk: {bp_chol_risk}%\")"
   ]
  }
 ],
 "metadata": {
  "language_info": {
   "name": "python"
  }
 },
 "nbformat": 4,
 "nbformat_minor": 2
}
