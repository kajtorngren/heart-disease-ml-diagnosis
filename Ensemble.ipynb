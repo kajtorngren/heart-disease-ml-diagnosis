{
 "cells": [
  {
   "cell_type": "code",
   "execution_count": 1,
   "metadata": {},
   "outputs": [
    {
     "name": "stdout",
     "output_type": "stream",
     "text": [
      "Kombinerad risk: 87.00% - Hög risk för hjärtsjukdom\n",
      "Du har stor grad av arytmi, uppsök läkare\n",
      "BP/Chol Risk: 85%\n"
     ]
    }
   ],
   "source": [
    "# Riskprocent från EKG-modellen\n",
    "ecg_risk = 90  # Risk från EKG-modellen (procent)\n",
    "\n",
    "# Input från BP/Chol-modellen\n",
    "bp_chol_prediction = 1  # Prediktion från BP/Chol-modellen (0 eller 1)\n",
    "bp_chol_probability = 0.76  # Sannolikhet från BP/Chol-modellen (0 till 1)\n",
    "\n",
    "# Beräkna riskprocent baserat på prediktion och sannolikhet\n",
    "if bp_chol_prediction == 0:\n",
    "    # Om modellen förutspår \"inte hälsosam\" (0), skala sannolikheten till hög risk\n",
    "    bp_chol_risk = int(bp_chol_probability * 100)\n",
    "else:\n",
    "    # Om modellen förutspår \"hälsosam\" (1), invertera sannolikheten till låg risk\n",
    "    bp_chol_risk = int((1 - bp_chol_probability) * 100)\n",
    "\n",
    "# Dynamiska vikter baserat på medicinsk kontext\n",
    "def adjust_weights(ecg_risk, bp_chol_risk):\n",
    "    \"\"\"\n",
    "    Justera vikterna för de två modellerna baserat på risknivåer\n",
    "    \"\"\"\n",
    "    # Om BP/Chol-risk är hög, ge BP-modellen mer vikt\n",
    "    if bp_chol_risk >= 70:\n",
    "        return 0.4, 0.6  # Ge mer vikt till BP/Chol om BP är mycket hög\n",
    "    # Om både EKG och BP/Chol är höga, ge lika vikt\n",
    "    elif ecg_risk >= 70 and bp_chol_risk >= 70:\n",
    "        return 0.5, 0.5  # Ge lika vikt om både EKG och BP är höga\n",
    "    # Om både EKG och BP/Chol är låga, ge lika vikt\n",
    "    elif ecg_risk < 30 and bp_chol_risk < 50:\n",
    "        return 0.5, 0.5  # Låg risk för båda, ge lika vikt\n",
    "    else:\n",
    "        return 0.5, 0.5  # Standard när riskerna är balanserade\n",
    "\n",
    "# Hämta dynamiska vikter\n",
    "ecg_weight, bp_chol_weight = adjust_weights(ecg_risk, bp_chol_risk)\n",
    "\n",
    "# Kombinera riskerna med justerade vikter\n",
    "combined_risk = (ecg_risk * ecg_weight + bp_chol_risk * bp_chol_weight)\n",
    "\n",
    "# Tröskelvärden för riskkategori\n",
    "if combined_risk < 50:\n",
    "    risk_category = \"Låg risk för hjärtsjukdom\"\n",
    "elif 50 <= combined_risk < 75:\n",
    "    risk_category = \"Medelhög risk för hjärtsjukdom\"\n",
    "elif 75 <= combined_risk < 90:\n",
    "    risk_category = \"Hög risk för hjärtsjukdom\"\n",
    "else:\n",
    "    risk_category = \"Mycket hög risk för hjärtsjukdom\"\n",
    "\n",
    "# Skriv ut sammanvägt resultat på samma rad\n",
    "print(f\"Kombinerad risk: {combined_risk:.2f}% - {risk_category}\")\n",
    "\n",
    "# Extra medicinsk insikt om arytmi vid hög EKG-risk\n",
    "if ecg_risk >= 70:\n",
    "    print(\"Du har stor grad av arytmi, uppsök läkare\")\n",
    "\n",
    "# Skriv ut procentuellt resultat för BP/Chol\n",
    "print(f\"BP/Chol Risk: {bp_chol_risk}%\")"
   ]
  }
 ],
 "metadata": {
  "kernelspec": {
   "display_name": "Python 3",
   "language": "python",
   "name": "python3"
  },
  "language_info": {
   "codemirror_mode": {
    "name": "ipython",
    "version": 3
   },
   "file_extension": ".py",
   "mimetype": "text/x-python",
   "name": "python",
   "nbconvert_exporter": "python",
   "pygments_lexer": "ipython3",
   "version": "3.9.7"
  }
 },
 "nbformat": 4,
 "nbformat_minor": 2
}
